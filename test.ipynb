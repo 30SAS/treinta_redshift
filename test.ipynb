{
 "cells": [
  {
   "cell_type": "code",
   "execution_count": 3,
   "metadata": {},
   "outputs": [
    {
     "name": "stdout",
     "output_type": "stream",
     "text": [
      "Collecting git+https://github.com/30SAS/redshift-utils.git\n",
      "  Cloning https://github.com/30SAS/redshift-utils.git to /private/var/folders/wm/wz6ccjpj2q9f094mrf97yt000000gn/T/pip-req-build-u3elzqk7\n",
      "  Running command git clone --filter=blob:none --quiet https://github.com/30SAS/redshift-utils.git /private/var/folders/wm/wz6ccjpj2q9f094mrf97yt000000gn/T/pip-req-build-u3elzqk7\n",
      "  Resolved https://github.com/30SAS/redshift-utils.git to commit 8c9f4a3cbd29b0a98c51ce8412707add5f8c67c2\n",
      "  Installing build dependencies ... \u001b[?25ldone\n",
      "\u001b[?25h  Getting requirements to build wheel ... \u001b[?25ldone\n",
      "\u001b[?25h  Preparing metadata (pyproject.toml) ... \u001b[?25ldone\n",
      "\u001b[?25hRequirement already satisfied: boto3==1.34.23 in ./.venv/lib/python3.11/site-packages (from redshift_utils==0.1.0) (1.34.23)\n",
      "Requirement already satisfied: botocore==1.34.23 in ./.venv/lib/python3.11/site-packages (from redshift_utils==0.1.0) (1.34.23)\n",
      "Requirement already satisfied: numpy==1.25.0 in ./.venv/lib/python3.11/site-packages (from redshift_utils==0.1.0) (1.25.0)\n",
      "Requirement already satisfied: pandas==2.0.2 in ./.venv/lib/python3.11/site-packages (from redshift_utils==0.1.0) (2.0.2)\n",
      "Requirement already satisfied: pyarrow==13.0.0 in ./.venv/lib/python3.11/site-packages (from redshift_utils==0.1.0) (13.0.0)\n",
      "Requirement already satisfied: jmespath<2.0.0,>=0.7.1 in ./.venv/lib/python3.11/site-packages (from boto3==1.34.23->redshift_utils==0.1.0) (1.0.1)\n",
      "Requirement already satisfied: s3transfer<0.11.0,>=0.10.0 in ./.venv/lib/python3.11/site-packages (from boto3==1.34.23->redshift_utils==0.1.0) (0.10.0)\n",
      "Requirement already satisfied: python-dateutil<3.0.0,>=2.1 in ./.venv/lib/python3.11/site-packages (from botocore==1.34.23->redshift_utils==0.1.0) (2.8.2)\n",
      "Requirement already satisfied: urllib3<2.1,>=1.25.4 in ./.venv/lib/python3.11/site-packages (from botocore==1.34.23->redshift_utils==0.1.0) (2.0.7)\n",
      "Requirement already satisfied: pytz>=2020.1 in ./.venv/lib/python3.11/site-packages (from pandas==2.0.2->redshift_utils==0.1.0) (2023.3.post1)\n",
      "Requirement already satisfied: tzdata>=2022.1 in ./.venv/lib/python3.11/site-packages (from pandas==2.0.2->redshift_utils==0.1.0) (2023.4)\n",
      "Requirement already satisfied: six>=1.5 in ./.venv/lib/python3.11/site-packages (from python-dateutil<3.0.0,>=2.1->botocore==1.34.23->redshift_utils==0.1.0) (1.16.0)\n",
      "\n",
      "\u001b[1m[\u001b[0m\u001b[34;49mnotice\u001b[0m\u001b[1;39;49m]\u001b[0m\u001b[39;49m A new release of pip is available: \u001b[0m\u001b[31;49m23.3.1\u001b[0m\u001b[39;49m -> \u001b[0m\u001b[32;49m23.3.2\u001b[0m\n",
      "\u001b[1m[\u001b[0m\u001b[34;49mnotice\u001b[0m\u001b[1;39;49m]\u001b[0m\u001b[39;49m To update, run: \u001b[0m\u001b[32;49mpip install --upgrade pip\u001b[0m\n"
     ]
    }
   ],
   "source": [
    "!pip install git+https://github.com/30SAS/redshift-utils.git"
   ]
  },
  {
   "cell_type": "code",
   "execution_count": 2,
   "metadata": {},
   "outputs": [
    {
     "name": "stdout",
     "output_type": "stream",
     "text": [
      "appnope==0.1.3\n",
      "asttokens==2.4.1\n",
      "boto3==1.34.23\n",
      "botocore==1.34.23\n",
      "comm==0.2.1\n",
      "debugpy==1.8.0\n",
      "decorator==5.1.1\n",
      "executing==2.0.1\n",
      "ipykernel==6.29.0\n",
      "ipython==8.20.0\n",
      "jedi==0.19.1\n",
      "jmespath==1.0.1\n",
      "jupyter_client==8.6.0\n",
      "jupyter_core==5.7.1\n",
      "matplotlib-inline==0.1.6\n",
      "nest-asyncio==1.6.0\n",
      "numpy==1.25.0\n",
      "packaging==23.2\n",
      "pandas==2.0.2\n",
      "parso==0.8.3\n",
      "pexpect==4.9.0\n",
      "platformdirs==4.1.0\n",
      "prompt-toolkit==3.0.43\n",
      "psutil==5.9.8\n",
      "ptyprocess==0.7.0\n",
      "pure-eval==0.2.2\n",
      "pyarrow==13.0.0\n",
      "Pygments==2.17.2\n",
      "python-dateutil==2.8.2\n",
      "pytz==2023.3.post1\n",
      "pyzmq==25.1.2\n",
      "redshift_utils @ git+https://github.com/30SAS/redshift-utils.git@8c9f4a3cbd29b0a98c51ce8412707add5f8c67c2\n",
      "s3transfer==0.10.0\n",
      "six==1.16.0\n",
      "stack-data==0.6.3\n",
      "tornado==6.4\n",
      "traitlets==5.14.1\n",
      "tzdata==2023.4\n",
      "urllib3==2.0.7\n",
      "wcwidth==0.2.13\n"
     ]
    }
   ],
   "source": [
    "!pip freeze"
   ]
  },
  {
   "cell_type": "code",
   "execution_count": 9,
   "metadata": {},
   "outputs": [
    {
     "ename": "ModuleNotFoundError",
     "evalue": "No module named 'redshift_utils'",
     "output_type": "error",
     "traceback": [
      "\u001b[0;31m---------------------------------------------------------------------------\u001b[0m",
      "\u001b[0;31mModuleNotFoundError\u001b[0m                       Traceback (most recent call last)",
      "Cell \u001b[0;32mIn[9], line 1\u001b[0m\n\u001b[0;32m----> 1\u001b[0m \u001b[38;5;28;01mimport\u001b[39;00m \u001b[38;5;21;01mredshift_utils\u001b[39;00m\u001b[38;5;21;01m.\u001b[39;00m\u001b[38;5;21;01mcore\u001b[39;00m \u001b[38;5;28;01mas\u001b[39;00m \u001b[38;5;21;01mredshift\u001b[39;00m\n",
      "\u001b[0;31mModuleNotFoundError\u001b[0m: No module named 'redshift_utils'"
     ]
    }
   ],
   "source": [
    "import redshift_utils.core as redshift\n"
   ]
  }
 ],
 "metadata": {
  "kernelspec": {
   "display_name": "Python 3",
   "language": "python",
   "name": "python3"
  },
  "language_info": {
   "codemirror_mode": {
    "name": "ipython",
    "version": 3
   },
   "file_extension": ".py",
   "mimetype": "text/x-python",
   "name": "python",
   "nbconvert_exporter": "python",
   "pygments_lexer": "ipython3",
   "version": "3.11.7"
  }
 },
 "nbformat": 4,
 "nbformat_minor": 2
}
