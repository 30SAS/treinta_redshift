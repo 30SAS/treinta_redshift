{
 "cells": [
  {
   "cell_type": "code",
   "execution_count": 1,
   "metadata": {},
   "outputs": [
    {
     "name": "stdout",
     "output_type": "stream",
     "text": [
      "Collecting treinta-redshift\n",
      "  Downloading treinta_redshift-1.0.2-py3-none-any.whl.metadata (6.8 kB)\n",
      "Collecting boto3==1.34.23 (from treinta-redshift)\n",
      "  Using cached boto3-1.34.23-py3-none-any.whl.metadata (6.6 kB)\n",
      "Collecting botocore==1.34.23 (from treinta-redshift)\n",
      "  Using cached botocore-1.34.23-py3-none-any.whl.metadata (5.6 kB)\n",
      "Collecting numpy==1.25.0 (from treinta-redshift)\n",
      "  Using cached numpy-1.25.0-cp311-cp311-macosx_11_0_arm64.whl.metadata (5.6 kB)\n",
      "Collecting pandas==2.0.2 (from treinta-redshift)\n",
      "  Using cached pandas-2.0.2-cp311-cp311-macosx_11_0_arm64.whl.metadata (18 kB)\n",
      "Collecting pyarrow==13.0.0 (from treinta-redshift)\n",
      "  Using cached pyarrow-13.0.0-cp311-cp311-macosx_11_0_arm64.whl.metadata (3.0 kB)\n",
      "Collecting jmespath<2.0.0,>=0.7.1 (from boto3==1.34.23->treinta-redshift)\n",
      "  Using cached jmespath-1.0.1-py3-none-any.whl (20 kB)\n",
      "Collecting s3transfer<0.11.0,>=0.10.0 (from boto3==1.34.23->treinta-redshift)\n",
      "  Using cached s3transfer-0.10.0-py3-none-any.whl.metadata (1.7 kB)\n",
      "Requirement already satisfied: python-dateutil<3.0.0,>=2.1 in ./.venv/lib/python3.11/site-packages (from botocore==1.34.23->treinta-redshift) (2.8.2)\n",
      "Collecting urllib3<2.1,>=1.25.4 (from botocore==1.34.23->treinta-redshift)\n",
      "  Using cached urllib3-2.0.7-py3-none-any.whl.metadata (6.6 kB)\n",
      "Collecting pytz>=2020.1 (from pandas==2.0.2->treinta-redshift)\n",
      "  Using cached pytz-2023.3.post1-py2.py3-none-any.whl.metadata (22 kB)\n",
      "Collecting tzdata>=2022.1 (from pandas==2.0.2->treinta-redshift)\n",
      "  Using cached tzdata-2023.4-py2.py3-none-any.whl.metadata (1.4 kB)\n",
      "Requirement already satisfied: six>=1.5 in ./.venv/lib/python3.11/site-packages (from python-dateutil<3.0.0,>=2.1->botocore==1.34.23->treinta-redshift) (1.16.0)\n",
      "Downloading treinta_redshift-1.0.2-py3-none-any.whl (7.3 kB)\n",
      "Using cached boto3-1.34.23-py3-none-any.whl (139 kB)\n",
      "Using cached botocore-1.34.23-py3-none-any.whl (11.9 MB)\n",
      "Using cached numpy-1.25.0-cp311-cp311-macosx_11_0_arm64.whl (14.0 MB)\n",
      "Using cached pandas-2.0.2-cp311-cp311-macosx_11_0_arm64.whl (10.7 MB)\n",
      "Using cached pyarrow-13.0.0-cp311-cp311-macosx_11_0_arm64.whl (23.6 MB)\n",
      "Using cached pytz-2023.3.post1-py2.py3-none-any.whl (502 kB)\n",
      "Using cached s3transfer-0.10.0-py3-none-any.whl (82 kB)\n",
      "Using cached tzdata-2023.4-py2.py3-none-any.whl (346 kB)\n",
      "Using cached urllib3-2.0.7-py3-none-any.whl (124 kB)\n",
      "Installing collected packages: pytz, urllib3, tzdata, numpy, jmespath, pyarrow, pandas, botocore, s3transfer, boto3, treinta-redshift\n",
      "Successfully installed boto3-1.34.23 botocore-1.34.23 jmespath-1.0.1 numpy-1.25.0 pandas-2.0.2 pyarrow-13.0.0 pytz-2023.3.post1 s3transfer-0.10.0 treinta-redshift-1.0.2 tzdata-2023.4 urllib3-2.0.7\n"
     ]
    }
   ],
   "source": [
    "!pip install treinta-redshift"
   ]
  },
  {
   "cell_type": "code",
   "execution_count": 2,
   "metadata": {},
   "outputs": [],
   "source": [
    "import treinta_redshift as redshift"
   ]
  },
  {
   "cell_type": "code",
   "execution_count": 3,
   "metadata": {},
   "outputs": [
    {
     "name": "stdout",
     "output_type": "stream",
     "text": [
      "Current status: FINISHED\n"
     ]
    },
    {
     "data": {
      "text/html": [
       "<div>\n",
       "<style scoped>\n",
       "    .dataframe tbody tr th:only-of-type {\n",
       "        vertical-align: middle;\n",
       "    }\n",
       "\n",
       "    .dataframe tbody tr th {\n",
       "        vertical-align: top;\n",
       "    }\n",
       "\n",
       "    .dataframe thead th {\n",
       "        text-align: right;\n",
       "    }\n",
       "</style>\n",
       "<table border=\"1\" class=\"dataframe\">\n",
       "  <thead>\n",
       "    <tr style=\"text-align: right;\">\n",
       "      <th></th>\n",
       "      <th>id</th>\n",
       "      <th>months_frequency</th>\n",
       "      <th>discount</th>\n",
       "    </tr>\n",
       "  </thead>\n",
       "  <tbody>\n",
       "    <tr>\n",
       "      <th>0</th>\n",
       "      <td></td>\n",
       "      <td>1</td>\n",
       "      <td>0</td>\n",
       "    </tr>\n",
       "    <tr>\n",
       "      <th>1</th>\n",
       "      <td></td>\n",
       "      <td>12</td>\n",
       "      <td>0.4</td>\n",
       "    </tr>\n",
       "    <tr>\n",
       "      <th>2</th>\n",
       "      <td></td>\n",
       "      <td>6</td>\n",
       "      <td>0.25</td>\n",
       "    </tr>\n",
       "  </tbody>\n",
       "</table>\n",
       "</div>"
      ],
      "text/plain": [
       "  id months_frequency discount\n",
       "0                   1        0\n",
       "1                  12      0.4\n",
       "2                   6     0.25"
      ]
     },
     "execution_count": 3,
     "metadata": {},
     "output_type": "execute_result"
    }
   ],
   "source": [
    "DATA_1 = redshift.query_to_dataframe(\"SELECT * FROM landing_zone.public.frequency;\", cluster_identifier = 'redshift-data', database = \"landing_zone\", db_user = 'admintreinta')\n",
    "DATA_1"
   ]
  }
 ],
 "metadata": {
  "kernelspec": {
   "display_name": "Python 3",
   "language": "python",
   "name": "python3"
  },
  "language_info": {
   "codemirror_mode": {
    "name": "ipython",
    "version": 3
   },
   "file_extension": ".py",
   "mimetype": "text/x-python",
   "name": "python",
   "nbconvert_exporter": "python",
   "pygments_lexer": "ipython3",
   "version": "3.11.7"
  }
 },
 "nbformat": 4,
 "nbformat_minor": 2
}
