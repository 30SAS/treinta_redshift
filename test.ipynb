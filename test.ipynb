{
 "cells": [
  {
   "cell_type": "code",
   "execution_count": 3,
   "metadata": {},
   "outputs": [
    {
     "name": "stdout",
     "output_type": "stream",
     "text": [
      "Collecting git+https://github.com/30SAS/redshift-utils.git\n",
      "  Cloning https://github.com/30SAS/redshift-utils.git to /private/var/folders/wm/wz6ccjpj2q9f094mrf97yt000000gn/T/pip-req-build-u3elzqk7\n",
      "  Running command git clone --filter=blob:none --quiet https://github.com/30SAS/redshift-utils.git /private/var/folders/wm/wz6ccjpj2q9f094mrf97yt000000gn/T/pip-req-build-u3elzqk7\n",
      "  Resolved https://github.com/30SAS/redshift-utils.git to commit 8c9f4a3cbd29b0a98c51ce8412707add5f8c67c2\n",
      "  Installing build dependencies ... \u001b[?25ldone\n",
      "\u001b[?25h  Getting requirements to build wheel ... \u001b[?25ldone\n",
      "\u001b[?25h  Preparing metadata (pyproject.toml) ... \u001b[?25ldone\n",
      "\u001b[?25hRequirement already satisfied: boto3==1.34.23 in ./.venv/lib/python3.11/site-packages (from redshift_utils==0.1.0) (1.34.23)\n",
      "Requirement already satisfied: botocore==1.34.23 in ./.venv/lib/python3.11/site-packages (from redshift_utils==0.1.0) (1.34.23)\n",
      "Requirement already satisfied: numpy==1.25.0 in ./.venv/lib/python3.11/site-packages (from redshift_utils==0.1.0) (1.25.0)\n",
      "Requirement already satisfied: pandas==2.0.2 in ./.venv/lib/python3.11/site-packages (from redshift_utils==0.1.0) (2.0.2)\n",
      "Requirement already satisfied: pyarrow==13.0.0 in ./.venv/lib/python3.11/site-packages (from redshift_utils==0.1.0) (13.0.0)\n",
      "Requirement already satisfied: jmespath<2.0.0,>=0.7.1 in ./.venv/lib/python3.11/site-packages (from boto3==1.34.23->redshift_utils==0.1.0) (1.0.1)\n",
      "Requirement already satisfied: s3transfer<0.11.0,>=0.10.0 in ./.venv/lib/python3.11/site-packages (from boto3==1.34.23->redshift_utils==0.1.0) (0.10.0)\n",
      "Requirement already satisfied: python-dateutil<3.0.0,>=2.1 in ./.venv/lib/python3.11/site-packages (from botocore==1.34.23->redshift_utils==0.1.0) (2.8.2)\n",
      "Requirement already satisfied: urllib3<2.1,>=1.25.4 in ./.venv/lib/python3.11/site-packages (from botocore==1.34.23->redshift_utils==0.1.0) (2.0.7)\n",
      "Requirement already satisfied: pytz>=2020.1 in ./.venv/lib/python3.11/site-packages (from pandas==2.0.2->redshift_utils==0.1.0) (2023.3.post1)\n",
      "Requirement already satisfied: tzdata>=2022.1 in ./.venv/lib/python3.11/site-packages (from pandas==2.0.2->redshift_utils==0.1.0) (2023.4)\n",
      "Requirement already satisfied: six>=1.5 in ./.venv/lib/python3.11/site-packages (from python-dateutil<3.0.0,>=2.1->botocore==1.34.23->redshift_utils==0.1.0) (1.16.0)\n",
      "\n",
      "\u001b[1m[\u001b[0m\u001b[34;49mnotice\u001b[0m\u001b[1;39;49m]\u001b[0m\u001b[39;49m A new release of pip is available: \u001b[0m\u001b[31;49m23.3.1\u001b[0m\u001b[39;49m -> \u001b[0m\u001b[32;49m23.3.2\u001b[0m\n",
      "\u001b[1m[\u001b[0m\u001b[34;49mnotice\u001b[0m\u001b[1;39;49m]\u001b[0m\u001b[39;49m To update, run: \u001b[0m\u001b[32;49mpip install --upgrade pip\u001b[0m\n"
     ]
    }
   ],
   "source": [
    "!pip install git+https://github.com/30SAS/redshift-utils.git"
   ]
  },
  {
   "cell_type": "code",
   "execution_count": 7,
   "metadata": {},
   "outputs": [
    {
     "ename": "ModuleNotFoundError",
     "evalue": "No module named 'boto3'",
     "output_type": "error",
     "traceback": [
      "\u001b[0;31m---------------------------------------------------------------------------\u001b[0m",
      "\u001b[0;31mModuleNotFoundError\u001b[0m                       Traceback (most recent call last)",
      "Cell \u001b[0;32mIn[7], line 1\u001b[0m\n\u001b[0;32m----> 1\u001b[0m \u001b[38;5;28;01mfrom\u001b[39;00m \u001b[38;5;21;01mtreinta_redshift\u001b[39;00m \u001b[38;5;28;01mimport\u001b[39;00m \u001b[38;5;241m*\u001b[39m\n",
      "File \u001b[0;32m~/coding/treinta/redshift-utils/treinta_redshift/__init__.py:2\u001b[0m\n\u001b[0;32m----> 2\u001b[0m \u001b[38;5;28;01mfrom\u001b[39;00m \u001b[38;5;21;01m.\u001b[39;00m\u001b[38;5;21;01mcore\u001b[39;00m \u001b[38;5;28;01mimport\u001b[39;00m (\n\u001b[1;32m      3\u001b[0m     table_to_dataframe,\n\u001b[1;32m      4\u001b[0m     query_to_dataframe,\n\u001b[1;32m      5\u001b[0m     dataframe_to_s3,\n\u001b[1;32m      6\u001b[0m     load_s3_to_redshift,\n\u001b[1;32m      7\u001b[0m     execute_SP,\n\u001b[1;32m      8\u001b[0m     truncate_table,\n\u001b[1;32m      9\u001b[0m     drop_table,\n\u001b[1;32m     10\u001b[0m     sql_query,\n\u001b[1;32m     11\u001b[0m     dataframe_to_redshift\n\u001b[1;32m     12\u001b[0m )\n",
      "File \u001b[0;32m~/coding/treinta/redshift-utils/treinta_redshift/core.py:2\u001b[0m\n\u001b[1;32m      1\u001b[0m \u001b[38;5;66;03m# treinta_redshift\u001b[39;00m\n\u001b[0;32m----> 2\u001b[0m \u001b[38;5;28;01mimport\u001b[39;00m \u001b[38;5;21;01mboto3\u001b[39;00m\n\u001b[1;32m      3\u001b[0m \u001b[38;5;28;01mimport\u001b[39;00m \u001b[38;5;21;01mpandas\u001b[39;00m \u001b[38;5;28;01mas\u001b[39;00m \u001b[38;5;21;01mpd\u001b[39;00m\n\u001b[1;32m      4\u001b[0m \u001b[38;5;28;01mimport\u001b[39;00m \u001b[38;5;21;01mtime\u001b[39;00m\n",
      "\u001b[0;31mModuleNotFoundError\u001b[0m: No module named 'boto3'"
     ]
    }
   ],
   "source": [
    "from treinta_redshift import *\n"
   ]
  },
  {
   "cell_type": "code",
   "execution_count": null,
   "metadata": {},
   "outputs": [
    {
     "ename": "",
     "evalue": "",
     "output_type": "error",
     "traceback": [
      "\u001b[1;31mLa ejecución de celdas con '/opt/homebrew/bin/python3.12' requiere el paquete ipykernel.\n",
      "\u001b[1;31mEjecute el siguiente comando para instalar 'ipykernel' en el entorno de Python. comando \n",
      "\u001b[1;31m: '/opt/homebrew/bin/python3.12 -m pip install ipykernel -U --user --force-reinstall'"
     ]
    }
   ],
   "source": [
    "!pip show boto3\n"
   ]
  }
 ],
 "metadata": {
  "kernelspec": {
   "display_name": "Python 3",
   "language": "python",
   "name": "python3"
  },
  "language_info": {
   "codemirror_mode": {
    "name": "ipython",
    "version": 3
   },
   "file_extension": ".py",
   "mimetype": "text/x-python",
   "name": "python",
   "nbconvert_exporter": "python",
   "pygments_lexer": "ipython3",
   "version": "3.12.0"
  }
 },
 "nbformat": 4,
 "nbformat_minor": 2
}
