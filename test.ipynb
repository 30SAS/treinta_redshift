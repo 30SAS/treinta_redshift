{
 "cells": [
  {
   "cell_type": "code",
   "execution_count": 4,
   "metadata": {},
   "outputs": [
    {
     "ename": "ModuleNotFoundError",
     "evalue": "No module named 'pythonjsonlogger'",
     "output_type": "error",
     "traceback": [
      "\u001b[0;31m---------------------------------------------------------------------------\u001b[0m",
      "\u001b[0;31mModuleNotFoundError\u001b[0m                       Traceback (most recent call last)",
      "Cell \u001b[0;32mIn[4], line 1\u001b[0m\n\u001b[0;32m----> 1\u001b[0m \u001b[38;5;28;01mfrom\u001b[39;00m \u001b[38;5;21;01mtreinta_ms_utils\u001b[39;00m \u001b[38;5;28;01mimport\u001b[39;00m print_update_log\n\u001b[1;32m      3\u001b[0m print_update_log(\u001b[38;5;124m'\u001b[39m\u001b[38;5;124md55ddd04-79f8-447f-b3da-601cca8b22d4\u001b[39m\u001b[38;5;124m'\u001b[39m, \u001b[38;5;124m'\u001b[39m\u001b[38;5;124mprueba\u001b[39m\u001b[38;5;124m'\u001b[39m, \u001b[38;5;241m202\u001b[39m)\n",
      "File \u001b[0;32m~/git-hub/libraries/treinta_redshift/venv/lib/python3.9/site-packages/treinta_ms_utils/__init__.py:2\u001b[0m\n\u001b[0;32m----> 2\u001b[0m \u001b[38;5;28;01mfrom\u001b[39;00m \u001b[38;5;21;01m.\u001b[39;00m\u001b[38;5;21;01mcore\u001b[39;00m \u001b[38;5;28;01mimport\u001b[39;00m (\n\u001b[1;32m      3\u001b[0m     create_log,\n\u001b[1;32m      4\u001b[0m     update_log,\n\u001b[1;32m      5\u001b[0m     delete_log,\n\u001b[1;32m      6\u001b[0m     get_log,\n\u001b[1;32m      7\u001b[0m     publish_message_sns,\n\u001b[1;32m      8\u001b[0m     configure_datadog,\n\u001b[1;32m      9\u001b[0m     log_with_datadog\n\u001b[1;32m     10\u001b[0m )\n",
      "File \u001b[0;32m~/git-hub/libraries/treinta_redshift/venv/lib/python3.9/site-packages/treinta_ms_utils/core.py:7\u001b[0m\n\u001b[1;32m      5\u001b[0m \u001b[38;5;28;01mfrom\u001b[39;00m \u001b[38;5;21;01mbotocore\u001b[39;00m\u001b[38;5;21;01m.\u001b[39;00m\u001b[38;5;21;01mexceptions\u001b[39;00m \u001b[38;5;28;01mimport\u001b[39;00m ClientError\n\u001b[1;32m      6\u001b[0m \u001b[38;5;28;01mimport\u001b[39;00m \u001b[38;5;21;01mlogging\u001b[39;00m\n\u001b[0;32m----> 7\u001b[0m \u001b[38;5;28;01mfrom\u001b[39;00m \u001b[38;5;21;01mpythonjsonlogger\u001b[39;00m \u001b[38;5;28;01mimport\u001b[39;00m jsonlogger\n\u001b[1;32m      8\u001b[0m \u001b[38;5;28;01mfrom\u001b[39;00m \u001b[38;5;21;01mdatadog\u001b[39;00m \u001b[38;5;28;01mimport\u001b[39;00m initialize, api\n\u001b[1;32m      9\u001b[0m \u001b[38;5;28;01mimport\u001b[39;00m \u001b[38;5;21;01mos\u001b[39;00m\n",
      "\u001b[0;31mModuleNotFoundError\u001b[0m: No module named 'pythonjsonlogger'"
     ]
    }
   ],
   "source": [
    "from treinta_ms_utils import print_update_log\n",
    "\n",
    "print_update_log('d55ddd04-79f8-447f-b3da-601cca8b22d4', 'prueba', 202)\n"
   ]
  },
  {
   "cell_type": "code",
   "execution_count": 6,
   "metadata": {},
   "outputs": [
    {
     "name": "stdout",
     "output_type": "stream",
     "text": [
      "\u001b[31mERROR: Could not find a version that satisfies the requirement pythonjsonlogger (from versions: none)\u001b[0m\u001b[31m\n",
      "\u001b[0m\u001b[31mERROR: No matching distribution found for pythonjsonlogger\u001b[0m\u001b[31m\n",
      "\u001b[0mNote: you may need to restart the kernel to use updated packages.\n"
     ]
    }
   ],
   "source": [
    "pip install pythonjsonlogger"
   ]
  },
  {
   "cell_type": "code",
   "execution_count": 12,
   "metadata": {},
   "outputs": [],
   "source": [
    "def dataframe_to_redshift(df, table, schema, bucket=\"redshift-python-datalake\", database='landing_zone', region_name='us-west-2', endpoint='data_lake', object_name=None, db_user='admintreinta', cluster_identifier='redshift-data'):\n",
    "    # Asegúrate de que todos los argumentos se pasen por nombre\n",
    "    s3_object_path = dataframe_to_s3(df=df, bucket=bucket, endpoint=endpoint, region_name=region_name, object_name=object_name)\n",
    "    output = load_s3_to_redshift(table=table, schema=schema, s3_object_path=s3_object_path, database=database, cluster_identifier=cluster_identifier, db_user=db_user, region_name=region_name)\n",
    "    return output\n"
   ]
  },
  {
   "cell_type": "code",
   "execution_count": 2,
   "metadata": {},
   "outputs": [],
   "source": [
    "dataframe_to_redshift()"
   ]
  },
  {
   "cell_type": "code",
   "execution_count": 10,
   "metadata": {},
   "outputs": [
    {
     "name": "stdout",
     "output_type": "stream",
     "text": [
      "Current status: FINISHED\n"
     ]
    },
    {
     "data": {
      "text/html": [
       "<div>\n",
       "<style scoped>\n",
       "    .dataframe tbody tr th:only-of-type {\n",
       "        vertical-align: middle;\n",
       "    }\n",
       "\n",
       "    .dataframe tbody tr th {\n",
       "        vertical-align: top;\n",
       "    }\n",
       "\n",
       "    .dataframe thead th {\n",
       "        text-align: right;\n",
       "    }\n",
       "</style>\n",
       "<table border=\"1\" class=\"dataframe\">\n",
       "  <thead>\n",
       "    <tr style=\"text-align: right;\">\n",
       "      <th></th>\n",
       "      <th>id</th>\n",
       "      <th>months_frequency</th>\n",
       "      <th>discount</th>\n",
       "    </tr>\n",
       "  </thead>\n",
       "  <tbody>\n",
       "    <tr>\n",
       "      <th>0</th>\n",
       "      <td>1</td>\n",
       "      <td>1</td>\n",
       "      <td>0</td>\n",
       "    </tr>\n",
       "    <tr>\n",
       "      <th>1</th>\n",
       "      <td>3</td>\n",
       "      <td>12</td>\n",
       "      <td>0.4</td>\n",
       "    </tr>\n",
       "    <tr>\n",
       "      <th>2</th>\n",
       "      <td>2</td>\n",
       "      <td>6</td>\n",
       "      <td>0.25</td>\n",
       "    </tr>\n",
       "  </tbody>\n",
       "</table>\n",
       "</div>"
      ],
      "text/plain": [
       "   id months_frequency discount\n",
       "0   1                1        0\n",
       "1   3               12      0.4\n",
       "2   2                6     0.25"
      ]
     },
     "execution_count": 10,
     "metadata": {},
     "output_type": "execute_result"
    }
   ],
   "source": [
    "DATA_1 = query_to_dataframe(\"SELECT * FROM landing_zone.public.frequency;\", cluster_identifier = 'redshift-data', database = \"landing_zone\", db_user = 'admintreinta')\n",
    "DATA_1"
   ]
  },
  {
   "cell_type": "code",
   "execution_count": 13,
   "metadata": {},
   "outputs": [
    {
     "name": "stdout",
     "output_type": "stream",
     "text": [
      "\n",
      "        COPY landing_zone.public.landing_zone\n",
      "        FROM 's3://redshift-python-datalake/data_lake/2024/03/18/None_2024_03_18_16_07_01_272426.csv.gz'\n",
      "        IAM_ROLE default\n",
      "        delimiter ','\n",
      "        IGNOREHEADER 1\n",
      "        GZIP\n",
      "        CSV;\n",
      "    \n",
      "Estado actual: FAILED\n",
      "Error al truncar la tabla: ERROR: Cannot COPY into nonexistent table landing_zone\n"
     ]
    },
    {
     "data": {
      "text/plain": [
       "{'ClusterIdentifier': 'redshift-data',\n",
       " 'CreatedAt': datetime.datetime(2024, 3, 18, 16, 7, 3, 91000, tzinfo=tzlocal()),\n",
       " 'Database': 'landing_zone',\n",
       " 'DbUser': 'admintreinta',\n",
       " 'Id': 'd88c20cb-9376-47c7-acb2-d47f023797f1',\n",
       " 'ResponseMetadata': {'RequestId': 'd88c20cb-9376-47c7-acb2-d47f023797f1',\n",
       "  'HTTPStatusCode': 200,\n",
       "  'HTTPHeaders': {'x-amzn-requestid': 'd88c20cb-9376-47c7-acb2-d47f023797f1',\n",
       "   'content-type': 'application/x-amz-json-1.1',\n",
       "   'content-length': '160',\n",
       "   'date': 'Mon, 18 Mar 2024 21:07:02 GMT'},\n",
       "  'RetryAttempts': 0}}"
      ]
     },
     "execution_count": 13,
     "metadata": {},
     "output_type": "execute_result"
    }
   ],
   "source": [
    "dataframe_to_redshift(DATA_1,'landing_zone','public')"
   ]
  }
 ],
 "metadata": {
  "kernelspec": {
   "display_name": "Python 3",
   "language": "python",
   "name": "python3"
  },
  "language_info": {
   "codemirror_mode": {
    "name": "ipython",
    "version": 3
   },
   "file_extension": ".py",
   "mimetype": "text/x-python",
   "name": "python",
   "nbconvert_exporter": "python",
   "pygments_lexer": "ipython3",
   "version": "3.9.5"
  }
 },
 "nbformat": 4,
 "nbformat_minor": 2
}
