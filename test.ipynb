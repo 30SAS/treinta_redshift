{
 "cells": [
  {
   "cell_type": "code",
   "execution_count": 11,
   "metadata": {},
   "outputs": [
    {
     "name": "stdout",
     "output_type": "stream",
     "text": [
      "Name: treinta_redshift\n",
      "Version: 1.6\n",
      "Summary: paquete que permite interactuar pandas con redshift\n",
      "Home-page: \n",
      "Author: cristian.pinela\n",
      "Author-email: cristian.pinela@treinta.co\n",
      "License: LICENSE\n",
      "Location: /Users/andres.moreno/git-hub/libraries/treinta_redshift/venv/lib/python3.9/site-packages\n",
      "Requires: boto3, botocore, numpy, pandas, pyarrow\n",
      "Required-by: \n",
      "Note: you may need to restart the kernel to use updated packages.\n"
     ]
    }
   ],
   "source": [
    "pip show treinta-redshift"
   ]
  },
  {
   "cell_type": "code",
   "execution_count": 17,
   "metadata": {},
   "outputs": [
    {
     "name": "stdout",
     "output_type": "stream",
     "text": [
      "Current status: FAILED\n",
      "hola\n",
      "Error: ERROR: procedure data_production.b2b_ops.sp_pruebas_andr() does not exist\n",
      "  Hint: No procedure matches the given name and argument types. You may need to add explicit type casts.\n"
     ]
    }
   ],
   "source": [
    "from treinta_redshift import query_to_dataframe, execute_SP\n",
    "\n",
    "query = f\"\"\"SELECT * FROM landing_zone.pruebas_andres.match_insitu_merchant;\"\"\"\n",
    "stored_procedure = f\"\"\"sp_pruebas_andr\"\"\"\n",
    "try:\n",
    "    status = execute_SP(store_procedure=stored_procedure, schema='b2b_ops', database='data_production', db_user=\"ms_high_priority\")\n",
    "except Exception as e:\n",
    "    print('hola')\n",
    "    print(f\"Error: {e}\")\n",
    "\n",
    "query_to_dataframe"
   ]
  },
  {
   "cell_type": "code",
   "execution_count": 12,
   "metadata": {},
   "outputs": [],
   "source": [
    "def dataframe_to_redshift(df, table, schema, bucket=\"redshift-python-datalake\", database='landing_zone', region_name='us-west-2', endpoint='data_lake', object_name=None, db_user='admintreinta', cluster_identifier='redshift-data'):\n",
    "    # Asegúrate de que todos los argumentos se pasen por nombre\n",
    "    s3_object_path = dataframe_to_s3(df=df, bucket=bucket, endpoint=endpoint, region_name=region_name, object_name=object_name)\n",
    "    output = load_s3_to_redshift(table=table, schema=schema, s3_object_path=s3_object_path, database=database, cluster_identifier=cluster_identifier, db_user=db_user, region_name=region_name)\n",
    "    return output\n"
   ]
  },
  {
   "cell_type": "code",
   "execution_count": 2,
   "metadata": {},
   "outputs": [],
   "source": [
    "dataframe_to_redshift()"
   ]
  },
  {
   "cell_type": "code",
   "execution_count": 10,
   "metadata": {},
   "outputs": [
    {
     "name": "stdout",
     "output_type": "stream",
     "text": [
      "Current status: FINISHED\n"
     ]
    },
    {
     "data": {
      "text/html": [
       "<div>\n",
       "<style scoped>\n",
       "    .dataframe tbody tr th:only-of-type {\n",
       "        vertical-align: middle;\n",
       "    }\n",
       "\n",
       "    .dataframe tbody tr th {\n",
       "        vertical-align: top;\n",
       "    }\n",
       "\n",
       "    .dataframe thead th {\n",
       "        text-align: right;\n",
       "    }\n",
       "</style>\n",
       "<table border=\"1\" class=\"dataframe\">\n",
       "  <thead>\n",
       "    <tr style=\"text-align: right;\">\n",
       "      <th></th>\n",
       "      <th>id</th>\n",
       "      <th>months_frequency</th>\n",
       "      <th>discount</th>\n",
       "    </tr>\n",
       "  </thead>\n",
       "  <tbody>\n",
       "    <tr>\n",
       "      <th>0</th>\n",
       "      <td>1</td>\n",
       "      <td>1</td>\n",
       "      <td>0</td>\n",
       "    </tr>\n",
       "    <tr>\n",
       "      <th>1</th>\n",
       "      <td>3</td>\n",
       "      <td>12</td>\n",
       "      <td>0.4</td>\n",
       "    </tr>\n",
       "    <tr>\n",
       "      <th>2</th>\n",
       "      <td>2</td>\n",
       "      <td>6</td>\n",
       "      <td>0.25</td>\n",
       "    </tr>\n",
       "  </tbody>\n",
       "</table>\n",
       "</div>"
      ],
      "text/plain": [
       "   id months_frequency discount\n",
       "0   1                1        0\n",
       "1   3               12      0.4\n",
       "2   2                6     0.25"
      ]
     },
     "execution_count": 10,
     "metadata": {},
     "output_type": "execute_result"
    }
   ],
   "source": [
    "DATA_1 = query_to_dataframe(\"SELECT * FROM landing_zone.public.frequency;\", cluster_identifier = 'redshift-data', database = \"landing_zone\", db_user = 'admintreinta')\n",
    "DATA_1"
   ]
  },
  {
   "cell_type": "code",
   "execution_count": 13,
   "metadata": {},
   "outputs": [
    {
     "name": "stdout",
     "output_type": "stream",
     "text": [
      "\n",
      "        COPY landing_zone.public.landing_zone\n",
      "        FROM 's3://redshift-python-datalake/data_lake/2024/03/18/None_2024_03_18_16_07_01_272426.csv.gz'\n",
      "        IAM_ROLE default\n",
      "        delimiter ','\n",
      "        IGNOREHEADER 1\n",
      "        GZIP\n",
      "        CSV;\n",
      "    \n",
      "Estado actual: FAILED\n",
      "Error al truncar la tabla: ERROR: Cannot COPY into nonexistent table landing_zone\n"
     ]
    },
    {
     "data": {
      "text/plain": [
       "{'ClusterIdentifier': 'redshift-data',\n",
       " 'CreatedAt': datetime.datetime(2024, 3, 18, 16, 7, 3, 91000, tzinfo=tzlocal()),\n",
       " 'Database': 'landing_zone',\n",
       " 'DbUser': 'admintreinta',\n",
       " 'Id': 'd88c20cb-9376-47c7-acb2-d47f023797f1',\n",
       " 'ResponseMetadata': {'RequestId': 'd88c20cb-9376-47c7-acb2-d47f023797f1',\n",
       "  'HTTPStatusCode': 200,\n",
       "  'HTTPHeaders': {'x-amzn-requestid': 'd88c20cb-9376-47c7-acb2-d47f023797f1',\n",
       "   'content-type': 'application/x-amz-json-1.1',\n",
       "   'content-length': '160',\n",
       "   'date': 'Mon, 18 Mar 2024 21:07:02 GMT'},\n",
       "  'RetryAttempts': 0}}"
      ]
     },
     "execution_count": 13,
     "metadata": {},
     "output_type": "execute_result"
    }
   ],
   "source": [
    "dataframe_to_redshift(DATA_1,'landing_zone','public')"
   ]
  }
 ],
 "metadata": {
  "kernelspec": {
   "display_name": "venv",
   "language": "python",
   "name": "python3"
  },
  "language_info": {
   "codemirror_mode": {
    "name": "ipython",
    "version": 3
   },
   "file_extension": ".py",
   "mimetype": "text/x-python",
   "name": "python",
   "nbconvert_exporter": "python",
   "pygments_lexer": "ipython3",
   "version": "3.9.5"
  }
 },
 "nbformat": 4,
 "nbformat_minor": 2
}
